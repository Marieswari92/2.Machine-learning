{
 "cells": [
  {
   "cell_type": "code",
   "execution_count": 1,
   "metadata": {},
   "outputs": [],
   "source": [
    "import numpy as np\n",
    "import matplotlib as plt\n",
    "import pandas as pd"
   ]
  },
  {
   "cell_type": "code",
   "execution_count": 2,
   "metadata": {},
   "outputs": [],
   "source": [
    "data=pd.read_csv(\"insurance_pre.csv\")"
   ]
  },
  {
   "cell_type": "code",
   "execution_count": 3,
   "metadata": {},
   "outputs": [],
   "source": [
    "dataset=pd.get_dummies(data,drop_first=True)"
   ]
  },
  {
   "cell_type": "code",
   "execution_count": 4,
   "metadata": {},
   "outputs": [
    {
     "data": {
      "text/plain": [
       "Index(['age', 'bmi', 'children', 'charges', 'sex_male', 'smoker_yes'], dtype='object')"
      ]
     },
     "execution_count": 4,
     "metadata": {},
     "output_type": "execute_result"
    }
   ],
   "source": [
    "dataset.columns"
   ]
  },
  {
   "cell_type": "code",
   "execution_count": 5,
   "metadata": {},
   "outputs": [],
   "source": [
    "independent=dataset[['age', 'bmi', 'children','sex_male', 'smoker_yes']]\n",
    "dependent=dataset[['charges']]"
   ]
  },
  {
   "cell_type": "code",
   "execution_count": 6,
   "metadata": {},
   "outputs": [],
   "source": [
    "from sklearn.model_selection import train_test_split\n",
    "x_train,x_test,y_train,y_test=train_test_split(independent,dependent,test_size=0.30,random_state=0)"
   ]
  },
  {
   "cell_type": "code",
   "execution_count": 7,
   "metadata": {},
   "outputs": [],
   "source": [
    "from sklearn.preprocessing import StandardScaler\n",
    "sc=StandardScaler()\n",
    "x_train=sc.fit_transform(x_train)\n",
    "x_test=sc.transform(x_test)"
   ]
  },
  {
   "cell_type": "code",
   "execution_count": 9,
   "metadata": {},
   "outputs": [],
   "source": [
    "from sklearn.ensemble import RandomForestRegressor"
   ]
  },
  {
   "cell_type": "code",
   "execution_count": 12,
   "metadata": {},
   "outputs": [
    {
     "name": "stderr",
     "output_type": "stream",
     "text": [
      "C:\\Users\\jagadeesh\\Anaconda3\\lib\\site-packages\\sklearn\\model_selection\\_split.py:1978: FutureWarning: The default value of cv will change from 3 to 5 in version 0.22. Specify it explicitly to silence this warning.\n",
      "  warnings.warn(CV_WARNING, FutureWarning)\n",
      "[Parallel(n_jobs=-1)]: Using backend LokyBackend with 12 concurrent workers.\n"
     ]
    },
    {
     "name": "stdout",
     "output_type": "stream",
     "text": [
      "Fitting 3 folds for each of 12 candidates, totalling 36 fits\n"
     ]
    },
    {
     "name": "stderr",
     "output_type": "stream",
     "text": [
      "[Parallel(n_jobs=-1)]: Done   8 tasks      | elapsed:    1.7s\n",
      "[Parallel(n_jobs=-1)]: Done  26 out of  36 | elapsed:    1.9s remaining:    0.7s\n",
      "[Parallel(n_jobs=-1)]: Done  36 out of  36 | elapsed:    2.6s finished\n",
      "C:\\Users\\jagadeesh\\Anaconda3\\lib\\site-packages\\sklearn\\model_selection\\_search.py:715: DataConversionWarning: A column-vector y was passed when a 1d array was expected. Please change the shape of y to (n_samples,), for example using ravel().\n",
      "  self.best_estimator_.fit(X, y, **fit_params)\n"
     ]
    },
    {
     "data": {
      "text/plain": [
       "GridSearchCV(cv='warn', error_score='raise-deprecating',\n",
       "             estimator=RandomForestRegressor(bootstrap=True, criterion='mse',\n",
       "                                             max_depth=None,\n",
       "                                             max_features='auto',\n",
       "                                             max_leaf_nodes=None,\n",
       "                                             min_impurity_decrease=0.0,\n",
       "                                             min_impurity_split=None,\n",
       "                                             min_samples_leaf=1,\n",
       "                                             min_samples_split=2,\n",
       "                                             min_weight_fraction_leaf=0.0,\n",
       "                                             n_estimators='warn', n_jobs=None,\n",
       "                                             oob_score=False, random_state=None,\n",
       "                                             verbose=0, warm_start=False),\n",
       "             iid='warn', n_jobs=-1,\n",
       "             param_grid={'criterion': ['mse', 'mae'],\n",
       "                         'max_features': ['auto', 'sqrt', 'log2'],\n",
       "                         'n_estimators': [10, 100]},\n",
       "             pre_dispatch='2*n_jobs', refit=True, return_train_score=False,\n",
       "             scoring=None, verbose=3)"
      ]
     },
     "execution_count": 12,
     "metadata": {},
     "output_type": "execute_result"
    }
   ],
   "source": [
    "from sklearn.model_selection import GridSearchCV\n",
    "param_grid={'criterion': ['mse','mae'], 'max_features':['auto','sqrt','log2'], 'n_estimators':[10,100]}\n",
    "\n",
    "\n",
    "grid=GridSearchCV(RandomForestRegressor(),param_grid,refit=True,verbose=3,n_jobs=-1)\n",
    "\n",
    "grid.fit(x_train,y_train)"
   ]
  },
  {
   "cell_type": "code",
   "execution_count": 16,
   "metadata": {},
   "outputs": [
    {
     "name": "stdout",
     "output_type": "stream",
     "text": [
      "The R score value for best parameter {'criterion': 'mse', 'max_features': 'log2', 'n_estimators': 100} : 0.8718057729261963\n"
     ]
    }
   ],
   "source": [
    "re=grid.cv_results_\n",
    "\n",
    "grid_prediction=grid.predict(x_test)\n",
    "\n",
    "from sklearn.metrics import r2_score\n",
    "r_score=r2_score(y_test,grid_prediction)\n",
    "\n",
    "print(\"The R score value for best parameter {} :\" .format(grid.best_params_),r_score)\n"
   ]
  },
  {
   "cell_type": "code",
   "execution_count": 18,
   "metadata": {},
   "outputs": [],
   "source": [
    "table=pd.DataFrame.from_dict(re)"
   ]
  },
  {
   "cell_type": "code",
   "execution_count": 19,
   "metadata": {
    "scrolled": true
   },
   "outputs": [
    {
     "data": {
      "text/html": [
       "<div>\n",
       "<style scoped>\n",
       "    .dataframe tbody tr th:only-of-type {\n",
       "        vertical-align: middle;\n",
       "    }\n",
       "\n",
       "    .dataframe tbody tr th {\n",
       "        vertical-align: top;\n",
       "    }\n",
       "\n",
       "    .dataframe thead th {\n",
       "        text-align: right;\n",
       "    }\n",
       "</style>\n",
       "<table border=\"1\" class=\"dataframe\">\n",
       "  <thead>\n",
       "    <tr style=\"text-align: right;\">\n",
       "      <th></th>\n",
       "      <th>mean_fit_time</th>\n",
       "      <th>std_fit_time</th>\n",
       "      <th>mean_score_time</th>\n",
       "      <th>std_score_time</th>\n",
       "      <th>param_criterion</th>\n",
       "      <th>param_max_features</th>\n",
       "      <th>param_n_estimators</th>\n",
       "      <th>params</th>\n",
       "      <th>split0_test_score</th>\n",
       "      <th>split1_test_score</th>\n",
       "      <th>split2_test_score</th>\n",
       "      <th>mean_test_score</th>\n",
       "      <th>std_test_score</th>\n",
       "      <th>rank_test_score</th>\n",
       "    </tr>\n",
       "  </thead>\n",
       "  <tbody>\n",
       "    <tr>\n",
       "      <td>0</td>\n",
       "      <td>0.015624</td>\n",
       "      <td>0.000001</td>\n",
       "      <td>0.000000</td>\n",
       "      <td>0.000000</td>\n",
       "      <td>mse</td>\n",
       "      <td>auto</td>\n",
       "      <td>10</td>\n",
       "      <td>{'criterion': 'mse', 'max_features': 'auto', '...</td>\n",
       "      <td>0.794974</td>\n",
       "      <td>0.798440</td>\n",
       "      <td>0.781456</td>\n",
       "      <td>0.791624</td>\n",
       "      <td>0.007327</td>\n",
       "      <td>7</td>\n",
       "    </tr>\n",
       "    <tr>\n",
       "      <td>1</td>\n",
       "      <td>0.158328</td>\n",
       "      <td>0.003379</td>\n",
       "      <td>0.008710</td>\n",
       "      <td>0.006503</td>\n",
       "      <td>mse</td>\n",
       "      <td>auto</td>\n",
       "      <td>100</td>\n",
       "      <td>{'criterion': 'mse', 'max_features': 'auto', '...</td>\n",
       "      <td>0.808383</td>\n",
       "      <td>0.807306</td>\n",
       "      <td>0.793724</td>\n",
       "      <td>0.803138</td>\n",
       "      <td>0.006671</td>\n",
       "      <td>5</td>\n",
       "    </tr>\n",
       "    <tr>\n",
       "      <td>2</td>\n",
       "      <td>0.016626</td>\n",
       "      <td>0.001421</td>\n",
       "      <td>0.005208</td>\n",
       "      <td>0.007365</td>\n",
       "      <td>mse</td>\n",
       "      <td>sqrt</td>\n",
       "      <td>10</td>\n",
       "      <td>{'criterion': 'mse', 'max_features': 'sqrt', '...</td>\n",
       "      <td>0.776777</td>\n",
       "      <td>0.790360</td>\n",
       "      <td>0.794197</td>\n",
       "      <td>0.787111</td>\n",
       "      <td>0.007474</td>\n",
       "      <td>10</td>\n",
       "    </tr>\n",
       "    <tr>\n",
       "      <td>3</td>\n",
       "      <td>0.110349</td>\n",
       "      <td>0.000030</td>\n",
       "      <td>0.010531</td>\n",
       "      <td>0.007448</td>\n",
       "      <td>mse</td>\n",
       "      <td>sqrt</td>\n",
       "      <td>100</td>\n",
       "      <td>{'criterion': 'mse', 'max_features': 'sqrt', '...</td>\n",
       "      <td>0.814101</td>\n",
       "      <td>0.810123</td>\n",
       "      <td>0.798959</td>\n",
       "      <td>0.807728</td>\n",
       "      <td>0.006409</td>\n",
       "      <td>2</td>\n",
       "    </tr>\n",
       "    <tr>\n",
       "      <td>4</td>\n",
       "      <td>0.016034</td>\n",
       "      <td>0.000049</td>\n",
       "      <td>0.000000</td>\n",
       "      <td>0.000000</td>\n",
       "      <td>mse</td>\n",
       "      <td>log2</td>\n",
       "      <td>10</td>\n",
       "      <td>{'criterion': 'mse', 'max_features': 'log2', '...</td>\n",
       "      <td>0.753916</td>\n",
       "      <td>0.802127</td>\n",
       "      <td>0.788688</td>\n",
       "      <td>0.781577</td>\n",
       "      <td>0.020314</td>\n",
       "      <td>11</td>\n",
       "    </tr>\n",
       "    <tr>\n",
       "      <td>5</td>\n",
       "      <td>0.129257</td>\n",
       "      <td>0.002574</td>\n",
       "      <td>0.012383</td>\n",
       "      <td>0.002656</td>\n",
       "      <td>mse</td>\n",
       "      <td>log2</td>\n",
       "      <td>100</td>\n",
       "      <td>{'criterion': 'mse', 'max_features': 'log2', '...</td>\n",
       "      <td>0.812771</td>\n",
       "      <td>0.812200</td>\n",
       "      <td>0.804475</td>\n",
       "      <td>0.809815</td>\n",
       "      <td>0.003783</td>\n",
       "      <td>1</td>\n",
       "    </tr>\n",
       "    <tr>\n",
       "      <td>6</td>\n",
       "      <td>0.094585</td>\n",
       "      <td>0.000154</td>\n",
       "      <td>0.000000</td>\n",
       "      <td>0.000000</td>\n",
       "      <td>mae</td>\n",
       "      <td>auto</td>\n",
       "      <td>10</td>\n",
       "      <td>{'criterion': 'mae', 'max_features': 'auto', '...</td>\n",
       "      <td>0.770219</td>\n",
       "      <td>0.772176</td>\n",
       "      <td>0.785207</td>\n",
       "      <td>0.775867</td>\n",
       "      <td>0.006652</td>\n",
       "      <td>12</td>\n",
       "    </tr>\n",
       "    <tr>\n",
       "      <td>7</td>\n",
       "      <td>0.743769</td>\n",
       "      <td>0.017106</td>\n",
       "      <td>0.000000</td>\n",
       "      <td>0.000000</td>\n",
       "      <td>mae</td>\n",
       "      <td>auto</td>\n",
       "      <td>100</td>\n",
       "      <td>{'criterion': 'mae', 'max_features': 'auto', '...</td>\n",
       "      <td>0.802533</td>\n",
       "      <td>0.795523</td>\n",
       "      <td>0.791262</td>\n",
       "      <td>0.796439</td>\n",
       "      <td>0.004647</td>\n",
       "      <td>6</td>\n",
       "    </tr>\n",
       "    <tr>\n",
       "      <td>8</td>\n",
       "      <td>0.062728</td>\n",
       "      <td>0.000159</td>\n",
       "      <td>0.000000</td>\n",
       "      <td>0.000000</td>\n",
       "      <td>mae</td>\n",
       "      <td>sqrt</td>\n",
       "      <td>10</td>\n",
       "      <td>{'criterion': 'mae', 'max_features': 'sqrt', '...</td>\n",
       "      <td>0.808597</td>\n",
       "      <td>0.775443</td>\n",
       "      <td>0.780242</td>\n",
       "      <td>0.788094</td>\n",
       "      <td>0.014630</td>\n",
       "      <td>9</td>\n",
       "    </tr>\n",
       "    <tr>\n",
       "      <td>9</td>\n",
       "      <td>0.469054</td>\n",
       "      <td>0.022098</td>\n",
       "      <td>0.010417</td>\n",
       "      <td>0.007366</td>\n",
       "      <td>mae</td>\n",
       "      <td>sqrt</td>\n",
       "      <td>100</td>\n",
       "      <td>{'criterion': 'mae', 'max_features': 'sqrt', '...</td>\n",
       "      <td>0.806614</td>\n",
       "      <td>0.813676</td>\n",
       "      <td>0.793722</td>\n",
       "      <td>0.804671</td>\n",
       "      <td>0.008261</td>\n",
       "      <td>4</td>\n",
       "    </tr>\n",
       "    <tr>\n",
       "      <td>10</td>\n",
       "      <td>0.063519</td>\n",
       "      <td>0.001987</td>\n",
       "      <td>0.001666</td>\n",
       "      <td>0.001247</td>\n",
       "      <td>mae</td>\n",
       "      <td>log2</td>\n",
       "      <td>10</td>\n",
       "      <td>{'criterion': 'mae', 'max_features': 'log2', '...</td>\n",
       "      <td>0.809090</td>\n",
       "      <td>0.783531</td>\n",
       "      <td>0.777601</td>\n",
       "      <td>0.790074</td>\n",
       "      <td>0.013662</td>\n",
       "      <td>8</td>\n",
       "    </tr>\n",
       "    <tr>\n",
       "      <td>11</td>\n",
       "      <td>0.464385</td>\n",
       "      <td>0.006604</td>\n",
       "      <td>0.010416</td>\n",
       "      <td>0.007365</td>\n",
       "      <td>mae</td>\n",
       "      <td>log2</td>\n",
       "      <td>100</td>\n",
       "      <td>{'criterion': 'mae', 'max_features': 'log2', '...</td>\n",
       "      <td>0.812201</td>\n",
       "      <td>0.809845</td>\n",
       "      <td>0.794378</td>\n",
       "      <td>0.805475</td>\n",
       "      <td>0.007905</td>\n",
       "      <td>3</td>\n",
       "    </tr>\n",
       "  </tbody>\n",
       "</table>\n",
       "</div>"
      ],
      "text/plain": [
       "    mean_fit_time  std_fit_time  mean_score_time  std_score_time  \\\n",
       "0        0.015624      0.000001         0.000000        0.000000   \n",
       "1        0.158328      0.003379         0.008710        0.006503   \n",
       "2        0.016626      0.001421         0.005208        0.007365   \n",
       "3        0.110349      0.000030         0.010531        0.007448   \n",
       "4        0.016034      0.000049         0.000000        0.000000   \n",
       "5        0.129257      0.002574         0.012383        0.002656   \n",
       "6        0.094585      0.000154         0.000000        0.000000   \n",
       "7        0.743769      0.017106         0.000000        0.000000   \n",
       "8        0.062728      0.000159         0.000000        0.000000   \n",
       "9        0.469054      0.022098         0.010417        0.007366   \n",
       "10       0.063519      0.001987         0.001666        0.001247   \n",
       "11       0.464385      0.006604         0.010416        0.007365   \n",
       "\n",
       "   param_criterion param_max_features param_n_estimators  \\\n",
       "0              mse               auto                 10   \n",
       "1              mse               auto                100   \n",
       "2              mse               sqrt                 10   \n",
       "3              mse               sqrt                100   \n",
       "4              mse               log2                 10   \n",
       "5              mse               log2                100   \n",
       "6              mae               auto                 10   \n",
       "7              mae               auto                100   \n",
       "8              mae               sqrt                 10   \n",
       "9              mae               sqrt                100   \n",
       "10             mae               log2                 10   \n",
       "11             mae               log2                100   \n",
       "\n",
       "                                               params  split0_test_score  \\\n",
       "0   {'criterion': 'mse', 'max_features': 'auto', '...           0.794974   \n",
       "1   {'criterion': 'mse', 'max_features': 'auto', '...           0.808383   \n",
       "2   {'criterion': 'mse', 'max_features': 'sqrt', '...           0.776777   \n",
       "3   {'criterion': 'mse', 'max_features': 'sqrt', '...           0.814101   \n",
       "4   {'criterion': 'mse', 'max_features': 'log2', '...           0.753916   \n",
       "5   {'criterion': 'mse', 'max_features': 'log2', '...           0.812771   \n",
       "6   {'criterion': 'mae', 'max_features': 'auto', '...           0.770219   \n",
       "7   {'criterion': 'mae', 'max_features': 'auto', '...           0.802533   \n",
       "8   {'criterion': 'mae', 'max_features': 'sqrt', '...           0.808597   \n",
       "9   {'criterion': 'mae', 'max_features': 'sqrt', '...           0.806614   \n",
       "10  {'criterion': 'mae', 'max_features': 'log2', '...           0.809090   \n",
       "11  {'criterion': 'mae', 'max_features': 'log2', '...           0.812201   \n",
       "\n",
       "    split1_test_score  split2_test_score  mean_test_score  std_test_score  \\\n",
       "0            0.798440           0.781456         0.791624        0.007327   \n",
       "1            0.807306           0.793724         0.803138        0.006671   \n",
       "2            0.790360           0.794197         0.787111        0.007474   \n",
       "3            0.810123           0.798959         0.807728        0.006409   \n",
       "4            0.802127           0.788688         0.781577        0.020314   \n",
       "5            0.812200           0.804475         0.809815        0.003783   \n",
       "6            0.772176           0.785207         0.775867        0.006652   \n",
       "7            0.795523           0.791262         0.796439        0.004647   \n",
       "8            0.775443           0.780242         0.788094        0.014630   \n",
       "9            0.813676           0.793722         0.804671        0.008261   \n",
       "10           0.783531           0.777601         0.790074        0.013662   \n",
       "11           0.809845           0.794378         0.805475        0.007905   \n",
       "\n",
       "    rank_test_score  \n",
       "0                 7  \n",
       "1                 5  \n",
       "2                10  \n",
       "3                 2  \n",
       "4                11  \n",
       "5                 1  \n",
       "6                12  \n",
       "7                 6  \n",
       "8                 9  \n",
       "9                 4  \n",
       "10                8  \n",
       "11                3  "
      ]
     },
     "execution_count": 19,
     "metadata": {},
     "output_type": "execute_result"
    }
   ],
   "source": [
    "table"
   ]
  },
  {
   "cell_type": "code",
   "execution_count": 20,
   "metadata": {},
   "outputs": [
    {
     "name": "stdout",
     "output_type": "stream",
     "text": [
      "Age:46\n",
      "BMI:56\n",
      "Children:3\n",
      "Sex Male 0 or 1:1\n",
      "Smoker Yes 0 or 1:0\n"
     ]
    }
   ],
   "source": [
    "age_input=float(input(\"Age:\"))\n",
    "bmi_input=float(input(\"BMI:\"))\n",
    "children_input=float(input(\"Children:\"))\n",
    "sex_male_input=int(input(\"Sex Male 0 or 1:\"))\n",
    "smoker_yes_input=int(input(\"Smoker Yes 0 or 1:\"))"
   ]
  },
  {
   "cell_type": "code",
   "execution_count": 21,
   "metadata": {},
   "outputs": [
    {
     "name": "stdout",
     "output_type": "stream",
     "text": [
      "Future_presiction[17164.226044]:\n"
     ]
    }
   ],
   "source": [
    "future_prediction=grid.predict([[age_input,bmi_input,children_input,sex_male_input,smoker_yes_input]])\n",
    "\n",
    "print(\"Future_presiction{}:\".format(future_prediction))"
   ]
  },
  {
   "cell_type": "code",
   "execution_count": null,
   "metadata": {},
   "outputs": [],
   "source": []
  }
 ],
 "metadata": {
  "kernelspec": {
   "display_name": "Python 3",
   "language": "python",
   "name": "python3"
  },
  "language_info": {
   "codemirror_mode": {
    "name": "ipython",
    "version": 3
   },
   "file_extension": ".py",
   "mimetype": "text/x-python",
   "name": "python",
   "nbconvert_exporter": "python",
   "pygments_lexer": "ipython3",
   "version": "3.7.4"
  }
 },
 "nbformat": 4,
 "nbformat_minor": 2
}
